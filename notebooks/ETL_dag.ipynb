{
 "cells": [
  {
   "cell_type": "code",
   "execution_count": 2,
   "metadata": {},
   "outputs": [],
   "source": [
    "import pendulum\n",
    "import pandas as pd\n",
    "from airflow.providers.postgres.hooks.postgres import PostgresHook\n",
    "from airflow.decorators import task, dag\n",
    "\n",
    "@dag(\n",
    "  schedule='@once',\n",
    "  start_date=pendulum.datetime(2024, 1, 1, tz=\"UTC\"),\n",
    "  tags=[\"churn\"]\n",
    ")\n",
    "\n",
    "def prepare_churn_dataset():\n",
    "  @task()\n",
    "  def extract() -> pd.DataFrame:\n",
    "    conn = PostgresHook(\"source_db\").get_conn()\n",
    "    sql = f\"\"\"\n",
    "            select\n",
    "                c.customer_id, c.begin_date, c.end_date, c.type, c.paperless_billing, c.payment_method, c.monthly_charges, c.total_charges,\n",
    "                i.internet_service, i.online_security, i.online_backup, i.device_protection, i.tech_support, i.streaming_tv, i.streaming_movies,\n",
    "                p.gender, p.senior_citizen, p.partner, p.dependents,\n",
    "                ph.multiple_lines\n",
    "            from contracts as c\n",
    "            left join internet as i on i.customer_id = c.customer_id\n",
    "            left join personal as p on p.customer_id = c.customer_id\n",
    "            left join phone as ph on ph.customer_id = c.customer_id\n",
    "      \"\"\"\n",
    "\n",
    "    data = pd.read_sql(sql, conn) #исполним написанный запрос\n",
    "    conn.close()\n",
    "    return data\n",
    "\n",
    "  @task()\n",
    "  def transform(data: pd.DataFrame) -> pd.DataFrame:\n",
    "    data['target'] = (data['end_date'] != 'No').astype(int)\n",
    "    data['end_date'].replace({'No': None}, inplace=True)\n",
    "    return data \n",
    "\n",
    "  @task()\n",
    "  def load(data: pd.DataFrame):\n",
    "    hook = PostgresHook(\"destination_db\")\n",
    "    hook.insert_rows(\n",
    "                table=\"users_churn\",\n",
    "                replace=True,\n",
    "                target_fields=data.columns.tolist(),\n",
    "                replace_index=['customer_id'],\n",
    "                rows=data.values.tolist()\n",
    "        ) \n",
    "        \n",
    "  data = extract()\n",
    "  transformed_data = transform(data)\n",
    "  load(transformed_data)"
   ]
  }
 ],
 "metadata": {
  "kernelspec": {
   "display_name": ".venv",
   "language": "python",
   "name": "python3"
  },
  "language_info": {
   "codemirror_mode": {
    "name": "ipython",
    "version": 3
   },
   "file_extension": ".py",
   "mimetype": "text/x-python",
   "name": "python",
   "nbconvert_exporter": "python",
   "pygments_lexer": "ipython3",
   "version": "3.10.12"
  }
 },
 "nbformat": 4,
 "nbformat_minor": 2
}
