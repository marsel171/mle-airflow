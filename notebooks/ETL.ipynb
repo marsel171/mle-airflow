{
 "cells": [
  {
   "cell_type": "code",
   "execution_count": 2,
   "metadata": {},
   "outputs": [],
   "source": [
    "import os\n",
    "from dotenv import load_dotenv, find_dotenv\n",
    "load_dotenv()\n",
    "\n",
    "src_host = os.environ.get('DB_SOURCE_HOST')\n",
    "src_port = os.environ.get('DB_SOURCE_PORT')\n",
    "src_username = os.environ.get('DB_SOURCE_USER')\n",
    "src_password = os.environ.get('DB_SOURCE_PASSWORD')\n",
    "src_db = os.environ.get('DB_SOURCE_NAME') \n",
    "\n",
    "dst_host = os.environ.get('DB_DESTINATION_HOST')\n",
    "dst_port = os.environ.get('DB_DESTINATION_PORT')\n",
    "dst_username = os.environ.get('DB_DESTINATION_USER')\n",
    "dst_password = os.environ.get('DB_DESTINATION_PASSWORD')\n",
    "dst_db = os.environ.get('DB_DESTINATION_NAME')\n",
    "\n",
    "s3_bucket = os.environ.get('S3_BUCKET_NAME')\n",
    "s3_access_key = os.environ.get('AWS_ACCESS_KEY_ID')\n",
    "s3_secret_access_key = os.environ.get('AWS_SECRET_ACCESS_KEY')"
   ]
  },
  {
   "cell_type": "code",
   "execution_count": 15,
   "metadata": {},
   "outputs": [],
   "source": [
    "import pandas as pd\n",
    "from sqlalchemy import create_engine\n",
    "\n",
    "# замените пользователя, пароль, хост, порт и имя базы данных на реальные учётные данные общей базы данных\n",
    "\n",
    "src_conn = create_engine(f'postgresql://{src_username}:{src_password}@{src_host}:{src_port}/{src_db}')\n",
    "dst_conn = create_engine(f'postgresql://{dst_username}:{dst_password}@{dst_host}:{dst_port}/{dst_db}')\n",
    "\n",
    "# определяем функцию получения данных из первичного источника\n",
    "# она получает на вход объект соединения к первичному источнику\n",
    "# и возвращает данные из всех таблиц, собранные в одном pandas.DataFrame\n",
    "def extract(cnx) -> pd.DataFrame:\n",
    "  # сначала напишите SQL-запрос, который объединяет все таблицы в одну\n",
    "  sql_query = f\"\"\"\n",
    "                select c.customer_id,\n",
    "                c.begin_date,\n",
    "                c.end_date,\n",
    "                c.\"type\",\n",
    "                c.paperless_billing,\n",
    "                c.payment_method,\n",
    "                c.monthly_charges,\n",
    "                c.total_charges,\n",
    "                i.internet_service,\n",
    "                i.online_security,\n",
    "                i.online_backup,\n",
    "                i.device_protection,\n",
    "                i.tech_support,\n",
    "                i.streaming_tv,\n",
    "                i.streaming_movies,\n",
    "                p.gender,\n",
    "                p.senior_citizen,\n",
    "                p.partner,\n",
    "                p.dependents,\n",
    "                p2.multiple_lines\n",
    "                from contracts c \n",
    "                left join internet i on c.customer_id  = i.customer_id \n",
    "                left join personal p on c.customer_id = p.customer_id \n",
    "                left join phone p2 on c.customer_id = p2.customer_id    \n",
    "        \"\"\"\n",
    "  data = pd.read_sql(sql_query, cnx) #исполним написанный запрос\n",
    "  return data\n",
    "\n",
    "def transform(data: pd.DataFrame) -> pd.DataFrame:\n",
    "\n",
    "  # Мое решение\n",
    "  # data[\"target\"] = 1\n",
    "  # data[\"target\"][data[\"end_date\"] == \"No\"] = 0\n",
    "  # data[\"end_date\"][data[\"end_date\"] == \"No\"] = None\n",
    "\n",
    "  # Решение курса\n",
    "  # Для создания колонки target нужно сначала получить колонку, состоящую из True/False, где True означает, что пользователь перестал пользоваться услугами компании. А затем преобразовать True/False в int.\n",
    "  data['target'] = (data['end_date'] != 'No').astype(int)\n",
    "  data['end_date'].replace({'No': None}, inplace=True)\n",
    "\n",
    "  return data\n",
    "\n",
    "def load(data: pd.DataFrame, db_conn: sqlalchemy.engine.base.Engine, table_name: str = 'users_churn'):\n",
    "  data.to_sql(table_name, db_conn)"
   ]
  },
  {
   "cell_type": "code",
   "execution_count": null,
   "metadata": {},
   "outputs": [],
   "source": [
    "df = extract(src_conn)\n",
    "transformed_data = transform(df)\n",
    "load(transformed_data, dst_conn)"
   ]
  }
 ],
 "metadata": {
  "kernelspec": {
   "display_name": ".venv",
   "language": "python",
   "name": "python3"
  },
  "language_info": {
   "codemirror_mode": {
    "name": "ipython",
    "version": 3
   },
   "file_extension": ".py",
   "mimetype": "text/x-python",
   "name": "python",
   "nbconvert_exporter": "python",
   "pygments_lexer": "ipython3",
   "version": "3.10.12"
  }
 },
 "nbformat": 4,
 "nbformat_minor": 2
}
